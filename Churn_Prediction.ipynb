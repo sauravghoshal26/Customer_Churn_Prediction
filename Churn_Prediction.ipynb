{
  "nbformat": 4,
  "nbformat_minor": 0,
  "metadata": {
    "colab": {
      "provenance": []
    },
    "kernelspec": {
      "name": "python3",
      "display_name": "Python 3"
    },
    "language_info": {
      "name": "python"
    }
  },
  "cells": [
    {
      "cell_type": "code",
      "execution_count": 4,
      "metadata": {
        "id": "ejdHBqVre9kn"
      },
      "outputs": [],
      "source": [
        "import pandas as pd\n",
        "from sklearn.model_selection import train_test_split\n",
        "from sklearn.preprocessing import StandardScaler\n",
        "from sklearn.linear_model import LogisticRegression\n",
        "from sklearn.metrics import accuracy_score, confusion_matrix, classification_report\n",
        "\n",
        "# Load the dataset\n",
        "data = pd.read_csv(\"Churn_Modelling.csv\")"
      ]
    },
    {
      "cell_type": "code",
      "source": [
        "# For simplicity, let's drop 'RowNumber', 'CustomerId', and 'Surname' as they are unlikely to contribute to churn prediction.\n",
        "data = data.drop(['RowNumber', 'CustomerId', 'Surname',], axis=1)"
      ],
      "metadata": {
        "id": "6P6Ds7qye-ZY"
      },
      "execution_count": 5,
      "outputs": []
    },
    {
      "cell_type": "code",
      "source": [
        "# Define features and target variable\n",
        "X = data.drop('Exited', axis=1)\n",
        "y = data['Exited']"
      ],
      "metadata": {
        "id": "anlSkbqUgTRa"
      },
      "execution_count": 6,
      "outputs": []
    },
    {
      "cell_type": "code",
      "source": [
        "# Split data into training and testing sets\n",
        "X_train, X_test, y_train, y_test = train_test_split(X, y, test_size=0.2, random_state=42)\n"
      ],
      "metadata": {
        "id": "klZVCJ-CjAEp"
      },
      "execution_count": 26,
      "outputs": []
    },
    {
      "cell_type": "code",
      "source": [
        "from sklearn.preprocessing import OneHotEncoder\n",
        "from sklearn.compose import ColumnTransformer\n",
        "from sklearn.pipeline import Pipeline\n",
        "\n",
        "# Preprocessing: one-hot encoding for categorical variables and feature scaling for numerical variables\n",
        "numeric_features = ['CreditScore', 'Age', 'Tenure', 'Balance', 'NumOfProducts', 'EstimatedSalary']\n",
        "categorical_features = ['Geography', 'Gender']\n",
        "\n",
        "numeric_transformer= StandardScaler()\n",
        "categorical_transformer = OneHotEncoder()\n",
        "\n",
        "# Create a preprocessor\n",
        "preprocessor = ColumnTransformer(\n",
        "    transformers=[\n",
        "        ('num', StandardScaler(), numeric_features),\n",
        "        ('cat', OneHotEncoder(), categorical_features)])"
      ],
      "metadata": {
        "id": "KRHdJS_3g2Re"
      },
      "execution_count": 27,
      "outputs": []
    },
    {
      "cell_type": "code",
      "source": [
        "# Define the pipeline with preprocessing and Logistic regression model\n",
        "pipeline = Pipeline(steps=[('preprocessor', preprocessor),\n",
        "                           ('classifier', LogisticRegression())])\n"
      ],
      "metadata": {
        "id": "C2cZZKvPhcm2"
      },
      "execution_count": 28,
      "outputs": []
    },
    {
      "cell_type": "code",
      "source": [
        "# Fit the pipeline\n",
        "pipeline.fit(X_train, y_train)\n",
        "\n",
        "# Make predictions\n",
        "y_pred = pipeline.predict(X_test)"
      ],
      "metadata": {
        "id": "Ughxk7nBiUHa"
      },
      "execution_count": 29,
      "outputs": []
    },
    {
      "cell_type": "code",
      "source": [
        "# Evaluate the model\n",
        "accuracy = accuracy_score(y_test, y_pred)\n",
        "conf_matrix = confusion_matrix(y_test, y_pred)\n",
        "classification_rep = classification_report(y_test, y_pred)\n",
        "\n",
        "print(\"Accuracy:\", accuracy)\n",
        "print(\"Confusion Matrix:\\n\", conf_matrix)\n",
        "print(\"Classification Report:\\n\", classification_rep)"
      ],
      "metadata": {
        "colab": {
          "base_uri": "https://localhost:8080/"
        },
        "id": "XHItgUkYiZkn",
        "outputId": "0d6fce07-d7a9-431d-d4d5-f7e3abf7d407"
      },
      "execution_count": 30,
      "outputs": [
        {
          "output_type": "stream",
          "name": "stdout",
          "text": [
            "Accuracy: 0.8035\n",
            "Confusion Matrix:\n",
            " [[1552   55]\n",
            " [ 338   55]]\n",
            "Classification Report:\n",
            "               precision    recall  f1-score   support\n",
            "\n",
            "           0       0.82      0.97      0.89      1607\n",
            "           1       0.50      0.14      0.22       393\n",
            "\n",
            "    accuracy                           0.80      2000\n",
            "   macro avg       0.66      0.55      0.55      2000\n",
            "weighted avg       0.76      0.80      0.76      2000\n",
            "\n"
          ]
        }
      ]
    },
    {
      "cell_type": "code",
      "source": [
        "from sklearn.ensemble import RandomForestClassifier\n",
        "\n",
        "# Define the pipeline with preprocessing and Random Forest classifier\n",
        "pipeline_rf = Pipeline(steps=[('preprocessor', preprocessor),\n",
        "                              ('classifier', RandomForestClassifier(n_estimators=100, random_state=42))])\n",
        "\n",
        "# Fit the pipeline\n",
        "pipeline_rf.fit(X_train, y_train)\n",
        "\n",
        "# Make predictions\n",
        "y_pred_rf = pipeline_rf.predict(X_test)"
      ],
      "metadata": {
        "id": "jR_7bLHzkLQ-"
      },
      "execution_count": 32,
      "outputs": []
    },
    {
      "cell_type": "code",
      "source": [
        "# Evaluate the Random Forest model\n",
        "accuracy_rf = accuracy_score(y_test, y_pred_rf)\n",
        "conf_matrix_rf = confusion_matrix(y_test, y_pred_rf)\n",
        "classification_rep_rf = classification_report(y_test, y_pred_rf)\n",
        "\n",
        "print(\"Random Forest Model Accuracy:\", accuracy_rf)\n",
        "print(\"Confusion Matrix (Random Forest):\\n\", conf_matrix_rf)\n",
        "print(\"Classification Report (Random Forest):\\n\", classification_rep_rf)"
      ],
      "metadata": {
        "colab": {
          "base_uri": "https://localhost:8080/"
        },
        "id": "yCoV18GflFEa",
        "outputId": "12c89824-6a01-46c3-a298-f18c860bcac9"
      },
      "execution_count": 33,
      "outputs": [
        {
          "output_type": "stream",
          "name": "stdout",
          "text": [
            "Random Forest Model Accuracy: 0.849\n",
            "Confusion Matrix (Random Forest):\n",
            " [[1528   79]\n",
            " [ 223  170]]\n",
            "Classification Report (Random Forest):\n",
            "               precision    recall  f1-score   support\n",
            "\n",
            "           0       0.87      0.95      0.91      1607\n",
            "           1       0.68      0.43      0.53       393\n",
            "\n",
            "    accuracy                           0.85      2000\n",
            "   macro avg       0.78      0.69      0.72      2000\n",
            "weighted avg       0.84      0.85      0.84      2000\n",
            "\n"
          ]
        }
      ]
    },
    {
      "cell_type": "code",
      "source": [
        "# Cross-validation with Random Forest\n",
        "from sklearn.model_selection import cross_val_score\n",
        "\n",
        "cv_scores = cross_val_score(pipeline_rf, X, y, cv=5)\n",
        "print(\"Cross-Validation Scores (Random Forest):\", cv_scores)\n",
        "print(\"Mean Cross-Validation Score (Random Forest):\", cv_scores.mean())"
      ],
      "metadata": {
        "colab": {
          "base_uri": "https://localhost:8080/"
        },
        "id": "ZqQBAIXMlyul",
        "outputId": "a6297ec9-c951-4703-e743-310913759411"
      },
      "execution_count": 35,
      "outputs": [
        {
          "output_type": "stream",
          "name": "stdout",
          "text": [
            "Cross-Validation Scores (Random Forest): [0.846  0.853  0.8495 0.8465 0.854 ]\n",
            "Mean Cross-Validation Score (Random Forest): 0.8497999999999999\n"
          ]
        }
      ]
    },
    {
      "cell_type": "code",
      "source": [
        "from sklearn.ensemble import GradientBoostingClassifier\n",
        "\n",
        "# Define the pipeline with preprocessing and Gradient Boosting classifier\n",
        "pipeline_gb = Pipeline(steps=[('preprocessor', preprocessor),\n",
        "                              ('classifier', GradientBoostingClassifier(n_estimators=100, random_state=42))])\n",
        "\n",
        "# Fit the pipeline\n",
        "pipeline_gb.fit(X_train, y_train)\n",
        "\n",
        "# Make predictions\n",
        "y_pred_gb = pipeline_gb.predict(X_test)\n",
        "\n",
        "# Evaluate the Gradient Boosting model\n",
        "accuracy_gb = accuracy_score(y_test, y_pred_gb)\n",
        "conf_matrix_gb = confusion_matrix(y_test, y_pred_gb)\n",
        "classification_rep_gb = classification_report(y_test, y_pred_gb)\n",
        "\n",
        "print(\"Gradient Boosting Model Accuracy:\", accuracy_gb)\n",
        "print(\"Confusion Matrix (Gradient Boosting):\\n\", conf_matrix_gb)\n",
        "print(\"Classification Report (Gradient Boosting):\\n\", classification_rep_gb)\n",
        "\n",
        "# Cross-validation with Gradient Boosting\n",
        "cv_scores_gb = cross_val_score(pipeline_gb, X, y, cv=5)\n",
        "print(\"Cross-Validation Scores (Gradient Boosting):\", cv_scores_gb)\n",
        "print(\"Mean Cross-Validation Score (Gradient Boosting):\", cv_scores_gb.mean())"
      ],
      "metadata": {
        "colab": {
          "base_uri": "https://localhost:8080/"
        },
        "id": "uni_z-C3l0xN",
        "outputId": "2ef59d57-3f90-4db8-99fb-4b2fe286667a"
      },
      "execution_count": 36,
      "outputs": [
        {
          "output_type": "stream",
          "name": "stdout",
          "text": [
            "Gradient Boosting Model Accuracy: 0.855\n",
            "Confusion Matrix (Gradient Boosting):\n",
            " [[1538   69]\n",
            " [ 221  172]]\n",
            "Classification Report (Gradient Boosting):\n",
            "               precision    recall  f1-score   support\n",
            "\n",
            "           0       0.87      0.96      0.91      1607\n",
            "           1       0.71      0.44      0.54       393\n",
            "\n",
            "    accuracy                           0.85      2000\n",
            "   macro avg       0.79      0.70      0.73      2000\n",
            "weighted avg       0.84      0.85      0.84      2000\n",
            "\n",
            "Cross-Validation Scores (Gradient Boosting): [0.851  0.858  0.8465 0.8605 0.855 ]\n",
            "Mean Cross-Validation Score (Gradient Boosting): 0.8542000000000002\n"
          ]
        }
      ]
    },
    {
      "cell_type": "code",
      "source": [
        "from sklearn.svm import SVC\n",
        "\n",
        "# Define the pipeline with preprocessing and SVC classifier\n",
        "pipeline_svc = Pipeline(steps=[('preprocessor', preprocessor),\n",
        "                               ('classifier', SVC(kernel='rbf', random_state=42))])\n",
        "\n",
        "# Fit the pipeline\n",
        "pipeline_svc.fit(X_train, y_train)\n",
        "\n",
        "# Make predictions\n",
        "y_pred_svc = pipeline_svc.predict(X_test)\n",
        "\n",
        "# Evaluate the SVC model\n",
        "accuracy_svc = accuracy_score(y_test, y_pred_svc)\n",
        "conf_matrix_svc = confusion_matrix(y_test, y_pred_svc)\n",
        "classification_rep_svc = classification_report(y_test, y_pred_svc)\n",
        "\n",
        "print(\"SVC Model Accuracy:\", accuracy_svc)\n",
        "print(\"Confusion Matrix (SVC):\\n\", conf_matrix_svc)\n",
        "print(\"Classification Report (SVC):\\n\", classification_rep_svc)\n",
        "\n",
        "# Cross-validation with SVC\n",
        "cv_scores_svc = cross_val_score(pipeline_svc, X, y, cv=5)\n",
        "print(\"Cross-Validation Scores (SVC):\", cv_scores_svc)\n",
        "print(\"Mean Cross-Validation Score (SVC):\", cv_scores_svc.mean())\n"
      ],
      "metadata": {
        "colab": {
          "base_uri": "https://localhost:8080/"
        },
        "id": "rhGVdcoxnbyd",
        "outputId": "6394c599-5831-4ad9-f43f-469a8a1a7d08"
      },
      "execution_count": 37,
      "outputs": [
        {
          "output_type": "stream",
          "name": "stdout",
          "text": [
            "SVC Model Accuracy: 0.847\n",
            "Confusion Matrix (SVC):\n",
            " [[1546   61]\n",
            " [ 245  148]]\n",
            "Classification Report (SVC):\n",
            "               precision    recall  f1-score   support\n",
            "\n",
            "           0       0.86      0.96      0.91      1607\n",
            "           1       0.71      0.38      0.49       393\n",
            "\n",
            "    accuracy                           0.85      2000\n",
            "   macro avg       0.79      0.67      0.70      2000\n",
            "weighted avg       0.83      0.85      0.83      2000\n",
            "\n",
            "Cross-Validation Scores (SVC): [0.8505 0.848  0.8445 0.853  0.8475]\n",
            "Mean Cross-Validation Score (SVC): 0.8487\n"
          ]
        }
      ]
    },
    {
      "cell_type": "code",
      "source": [],
      "metadata": {
        "id": "N33RhEokuEKv"
      },
      "execution_count": null,
      "outputs": []
    }
  ]
}